{
 "cells": [
  {
   "cell_type": "markdown",
   "metadata": {},
   "source": [
    "# GP Jax Code"
   ]
  },
  {
   "cell_type": "code",
   "execution_count": 1,
   "metadata": {},
   "outputs": [],
   "source": [
    "import numpy as np\n",
    "import jax\n",
    "import jax.numpy as jnp\n",
    "from math import pi\n",
    "from matplotlib import pyplot as plt\n",
    "from gp_oed_surrogate import create_gp\n",
    "\n",
    "# Set random seed:\n",
    "np.random.seed(1)"
   ]
  },
  {
   "cell_type": "code",
   "execution_count": 2,
   "metadata": {},
   "outputs": [],
   "source": [
    "# Function to predict:\n",
    "def f(x):\n",
    "    return x * jnp.sin(x)"
   ]
  },
  {
   "cell_type": "code",
   "execution_count": 3,
   "metadata": {},
   "outputs": [],
   "source": [
    "# Kernel used by GP:\n",
    "def kernel(x_1, x_2, params):\n",
    "    val = params[\"const\"]*jnp.exp(-0.5*((x_2 - x_1)/params[\"length\"])**2)\n",
    "    return val"
   ]
  },
  {
   "cell_type": "code",
   "execution_count": 4,
   "metadata": {},
   "outputs": [],
   "source": [
    "# Helper function to plot training data and GP predictions:\n",
    "def plot_gp(x_pred, y_pred, true_fun, x_true=None, y_true=None):\n",
    "    fig = plt.figure()\n",
    "    mean, var = y_pred['mean'].squeeze(), y_pred['var'].squeeze()\n",
    "    mean_minus_std = (mean - 3 * jnp.sqrt(var)).squeeze()\n",
    "    mean_plus_std = (mean + 3 * jnp.sqrt(var)).squeeze()\n",
    "    plt.plot(x_pred, true_fun(x_pred).squeeze(), 'r:', label=r'$f(x) = x\\,\\sin(x)$')\n",
    "    if (x_true is not None) and (y_true is not None):\n",
    "        plt.plot(x_true, y_true, 'r.', markersize=10, label='Observations')\n",
    "    plt.plot(x_pred, mean, 'b-', label='Prediction')\n",
    "    plt.fill_between(x_pred.squeeze(), mean_plus_std, mean_minus_std, alpha=.5, fc='b', ec='None', label='95% confidence interval')\n",
    "    plt.xlabel('$x$')\n",
    "    plt.ylabel('$f(x)$')\n",
    "    plt.ylim(-10, 20)\n",
    "    plt.legend(loc='upper left')\n",
    "    fig.patch.set_facecolor('white')\n",
    "    plt.show()"
   ]
  },
  {
   "cell_type": "markdown",
   "metadata": {},
   "source": [
    "The noiseless case:"
   ]
  },
  {
   "cell_type": "code",
   "execution_count": 5,
   "metadata": {
    "scrolled": true
   },
   "outputs": [
    {
     "name": "stderr",
     "output_type": "stream",
     "text": [
      "WARNING:absl:No GPU/TPU found, falling back to CPU. (Set TF_CPP_MIN_LOG_LEVEL=0 and rerun for more info.)\n"
     ]
    },
    {
     "name": "stdout",
     "output_type": "stream",
     "text": [
      "43427.8\n",
      "19.88155\n",
      "19.881533\n",
      "19.881474\n",
      "19.881233\n",
      "19.880266\n",
      "19.876404\n",
      "19.860897\n",
      "19.797651\n",
      "19.022947\n",
      "42.812798\n",
      "16.621498\n",
      "15.549626\n",
      "15.525151\n",
      "15.258962\n",
      "15.105948\n",
      "5923.4697\n",
      "14.717256\n",
      "14.597819\n",
      "14.586017\n",
      "5684.29\n",
      "14.549079\n",
      "14.531229\n",
      "14.53128\n",
      "14.523387\n",
      "14.523303\n",
      "14.523269\n",
      "14.523274\n",
      "14.523261\n",
      "14.523266\n",
      "14.523261\n",
      "14.523261\n",
      "14.52329\n",
      "14.523261\n",
      "14.523261\n",
      "14.523259\n",
      "14.523271\n",
      "14.523291\n",
      "14.523259\n",
      "14.523259\n",
      "14.523266\n",
      "14.523259\n",
      "14.523259\n",
      "14.52329\n",
      "14.523259\n",
      "14.523259\n",
      "14.523259\n",
      "14.523259\n",
      "14.523259\n",
      "14.523259\n",
      "14.523259\n",
      "14.523259\n",
      "14.523259\n",
      "14.523259\n",
      "14.523259\n",
      "14.523259\n",
      "      fun: array(14.52325916)\n",
      " hess_inv: <2x2 LbfgsInvHessProduct with dtype=float64>\n",
      "      jac: array([-1.63763762e-05, -2.37464905e-04])\n",
      "  message: 'CONVERGENCE: REL_REDUCTION_OF_F_<=_FACTR*EPSMCH'\n",
      "     nfev: 56\n",
      "      nit: 10\n",
      "     njev: 56\n",
      "   status: 0\n",
      "  success: True\n",
      "        x: array([22.18749931,  1.67579892])\n",
      "139274.81\n",
      "19.88155\n",
      "15.74871\n",
      "109.12827\n",
      "109.139015\n",
      "109.19044\n",
      "109.25013\n",
      "109.12827\n",
      "109.12827\n",
      "109.12827\n",
      "109.12827\n",
      "109.12827\n",
      "109.12827\n",
      "109.12827\n",
      "109.12827\n",
      "109.12827\n",
      "109.12827\n",
      "109.12827\n",
      "109.12827\n",
      "109.12827\n",
      "109.12827\n",
      "      fun: array(109.12827301)\n",
      " hess_inv: <2x2 LbfgsInvHessProduct with dtype=float64>\n",
      "      jac: array([ -9.09897232, 305.78045654])\n",
      "  message: 'CONVERGENCE: REL_REDUCTION_OF_F_<=_FACTR*EPSMCH'\n",
      "     nfev: 21\n",
      "      nit: 2\n",
      "     njev: 21\n",
      "   status: 0\n",
      "  success: True\n",
      "        x: array([11.11602082,  2.76095007])\n"
     ]
    },
    {
     "data": {
      "image/png": "[encoded data removed]",
      "text/plain": [
       "<Figure size 432x288 with 1 Axes>"
      ]
     },
     "metadata": {},
     "output_type": "display_data"
    }
   ],
   "source": [
    "# Create noiseless dataset:\n",
    "x_train = jnp.atleast_2d([1., 3., 5., 6., 7., 8.]).T\n",
    "y_train = (f(x_train).ravel())\n",
    "y_train = y_train.reshape(len(y_train),1)\n",
    "\n",
    "# Train Gaussian Process model:\n",
    "constraints = {\"const\": {\">\": 10**-2, \"<\": 10**2}, \n",
    "               \"length\": {\">\": 10**-1, \"<\": 10**1}}\n",
    "surrogate = create_gp(kernel, x_train, y_train, constraints)\n",
    "\n",
    "# Plot predictions of GP model:\n",
    "x_pred =  jnp.atleast_2d(jnp.linspace(-10, 20, 1000)).T\n",
    "y_pred = surrogate.predict(x_pred)\n",
    "plot_gp(x_pred, y_pred, f, x_train, y_train)"
   ]
  },
  {
   "cell_type": "code",
   "execution_count": 12,
   "metadata": {
    "scrolled": false
   },
   "outputs": [
    {
     "data": {
      "image/png": "[encoded data removed]",
      "text/plain": [
       "<Figure size 432x288 with 1 Axes>"
      ]
     },
     "metadata": {},
     "output_type": "display_data"
    }
   ],
   "source": [
    "grad_order = 2\n",
    "\n",
    "# Get correct solution:\n",
    "grad_f = f\n",
    "for _ in range(grad_order):\n",
    "    grad_f = jax.jacfwd(grad_f)\n",
    "grad_f = jax.vmap(grad_f, in_axes=0)\n",
    "y_true = grad_f(x_train).squeeze()\n",
    "\n",
    "# Use GP:\n",
    "grad = ({'idx': [0], 'order':grad_order}, )\n",
    "# grad = ({'idx': [0], 'order':1}, {'idx': [0], 'order':1})\n",
    "y_pred = surrogate.predict(x_pred, grad=grad)\n",
    "\n",
    "plot_gp(x_pred, y_pred, grad_f, x_train, y_true)"
   ]
  },
  {
   "cell_type": "markdown",
   "metadata": {},
   "source": [
    "The noisy case:"
   ]
  },
  {
   "cell_type": "code",
   "execution_count": 14,
   "metadata": {},
   "outputs": [
    {
     "name": "stdout",
     "output_type": "stream",
     "text": [
      "416.8127\n",
      "63.871696\n",
      "63.87153\n",
      "63.870857\n",
      "63.86812\n",
      "63.84484\n",
      "62.539993\n",
      "53.37628\n",
      "50.424263\n",
      "51.743324\n",
      "50.30208\n",
      "64.71661\n",
      "50.29802\n",
      "49.91489\n",
      "48.145126\n",
      "49.51664\n",
      "43.71514\n",
      "39.13034\n",
      "37.668777\n",
      "45.18428\n",
      "37.80635\n",
      "37.663696\n",
      "37.70684\n",
      "37.62499\n",
      "37.62496\n",
      "37.62495\n",
      "37.624817\n",
      "37.62494\n",
      "37.624954\n",
      "37.624817\n",
      "37.624817\n",
      "37.624817\n",
      "37.624817\n",
      "37.624817\n",
      "37.624817\n",
      "37.624817\n",
      "37.624817\n",
      "37.624817\n",
      "37.624817\n",
      "37.624817\n",
      "37.624817\n",
      "      fun: array(37.62481689)\n",
      " hess_inv: <3x3 LbfgsInvHessProduct with dtype=float64>\n",
      "      jac: array([ 0.00635621, -0.00292492, -0.01685905])\n",
      "  message: 'CONVERGENCE: REL_REDUCTION_OF_F_<=_FACTR*EPSMCH'\n",
      "     nfev: 41\n",
      "      nit: 9\n",
      "     njev: 41\n",
      "   status: 0\n",
      "  success: True\n",
      "        x: array([59.25726472,  1.97117668,  0.44186269])\n",
      "59.879402\n",
      "58.960167\n",
      "58.209908\n",
      "58.209244\n",
      "58.206512\n",
      "58.195488\n",
      "58.150322\n",
      "57.947594\n",
      "55.617996\n",
      "55.618004\n",
      "55.617996\n",
      "55.617996\n",
      "55.617996\n",
      "55.617996\n",
      "55.617996\n",
      "55.617996\n",
      "55.617996\n",
      "55.617996\n",
      "      fun: array(55.61799622)\n",
      " hess_inv: <3x3 LbfgsInvHessProduct with dtype=float64>\n",
      "      jac: array([ 2.84462154e-01,  9.19417944e-05, -4.20631170e-01])\n",
      "  message: 'CONVERGENCE: REL_REDUCTION_OF_F_<=_FACTR*EPSMCH'\n",
      "     nfev: 18\n",
      "      nit: 4\n",
      "     njev: 18\n",
      "   status: 0\n",
      "  success: True\n",
      "        x: array([ 0.01      ,  9.99999996, 10.        ])\n"
     ]
    },
    {
     "data": {
      "image/png": "[encoded data removed]",
      "text/plain": [
       "<Figure size 432x288 with 1 Axes>"
      ]
     },
     "metadata": {},
     "output_type": "display_data"
    }
   ],
   "source": [
    "# Create noisy dataset:\n",
    "x_train = jnp.linspace(0.1, 9.9, 20)\n",
    "x_train = jnp.atleast_2d(x_train).T\n",
    "y_train = f(x_train).ravel()\n",
    "noise = np.random.normal(loc=0, scale=0.5, size=y_train.size)\n",
    "y_train += noise\n",
    "# Train Gaussian Process model:\n",
    "constraints = {\"const\": {\">\": 10**-2, \"<\": 10**2}, \n",
    "               \"length\": {\">\": 10**-1, \"<\": 10**1}, \n",
    "               \"noise\": {\">\":10**-1, \"<\":10**1}} \n",
    "surrogate = create_gp(kernel, x_train, y_train, constraints)\n",
    "# Plot predictions of GP model:\n",
    "x_pred = jnp.atleast_2d(jnp.linspace(0, 10, 1000)).T\n",
    "y_pred = surrogate.predict(x_pred)\n",
    "plot_gp(x_pred, y_pred, f, x_train, y_train)"
   ]
  },
  {
   "cell_type": "code",
   "execution_count": null,
   "metadata": {},
   "outputs": [],
   "source": [
    "grad_order = 1\n",
    "\n",
    "# Get correct solution:\n",
    "grad_f = f\n",
    "for _ in range(grad_order):\n",
    "    grad_f = jax.jacfwd(grad_f)\n",
    "grad_f = jax.vmap(grad_f, in_axes=0)\n",
    "y_true = grad_f(x_train).squeeze()\n",
    "\n",
    "# Use GP:\n",
    "grad = ({'idx': [0], 'order':grad_order}, )\n",
    "y_pred = surrogate.predict(x_pred, grad=grad)\n",
    "\n",
    "plot_gp(x_pred, y_pred, grad_f, x_train, y_true)"
   ]
  },
  {
   "cell_type": "markdown",
   "metadata": {},
   "source": [
    "# Comparison with GP Tools"
   ]
  },
  {
   "cell_type": "code",
   "execution_count": null,
   "metadata": {},
   "outputs": [],
   "source": [
    "!pip install gptools"
   ]
  },
  {
   "cell_type": "code",
   "execution_count": 18,
   "metadata": {},
   "outputs": [],
   "source": [
    "def plot_gptools(x_pred, mean, var, true_fun, x_true=None, y_true=None):\n",
    "    fig = plt.figure()\n",
    "    mean_minus_std = (mean - 3 * jnp.sqrt(var)).squeeze()\n",
    "    mean_plus_std = (mean + 3 * jnp.sqrt(var)).squeeze()\n",
    "    plt.plot(x_pred, true_fun(x_pred).squeeze(), 'r:', label=r'$f(x) = x\\,\\sin(x)$')\n",
    "    if (x_true is not None) and (y_true is not None):\n",
    "        plt.plot(x_true, y_true, 'r.', markersize=10, label='Observations')\n",
    "    plt.plot(x_pred, mean, 'b-', label='Prediction')\n",
    "    plt.fill_between(x_pred.squeeze(), mean_plus_std, mean_minus_std, alpha=.5, fc='b', ec='None', label='95% confidence interval')\n",
    "    plt.xlabel('$x$')\n",
    "    plt.ylabel('$f(x)$')\n",
    "    plt.ylim(-10, 20)\n",
    "    plt.legend(loc='upper left')\n",
    "    fig.patch.set_facecolor('white')\n",
    "    plt.show()"
   ]
  },
  {
   "cell_type": "code",
   "execution_count": 23,
   "metadata": {},
   "outputs": [
    {
     "name": "stderr",
     "output_type": "stream",
     "text": [
      "/home/mabilton/.local/lib/python3.8/site-packages/gptools/kernel/core.py:415: RuntimeWarning: divide by zero encountered in true_divide\n",
      "  tau_over_l = tau / l_mat\n",
      "/home/mabilton/.local/lib/python3.8/site-packages/gptools/kernel/core.py:415: RuntimeWarning: divide by zero encountered in true_divide\n",
      "  tau_over_l = tau / l_mat\n",
      "/home/mabilton/.local/lib/python3.8/site-packages/gptools/kernel/core.py:415: RuntimeWarning: invalid value encountered in true_divide\n",
      "  tau_over_l = tau / l_mat\n",
      "/home/mabilton/.local/lib/python3.8/site-packages/gptools/kernel/core.py:415: RuntimeWarning: invalid value encountered in true_divide\n",
      "  tau_over_l = tau / l_mat\n"
     ]
    },
    {
     "name": "stdout",
     "output_type": "stream",
     "text": [
      "Got 12 completed starts, optimal result is:\n",
      "     fun: 55.969803605077836\n",
      "     jac: array([ 6.96182251e-05, -3.61442566e-03])\n",
      " message: 'Optimization terminated successfully'\n",
      "    nfev: 58\n",
      "     nit: 16\n",
      "    njev: 16\n",
      "  status: 0\n",
      " success: True\n",
      "       x: array([4.71090633, 1.67587954])\n",
      "\n",
      "LL\t-56\n",
      "sigma_f\t4.71\n",
      "l_1\t1.68\n"
     ]
    },
    {
     "data": {
      "text/plain": [
       "(     fun: 55.969803605077836\n",
       "      jac: array([ 6.96182251e-05, -3.61442566e-03])\n",
       "  message: 'Optimization terminated successfully'\n",
       "     nfev: 58\n",
       "      nit: 16\n",
       "     njev: 16\n",
       "   status: 0\n",
       "  success: True\n",
       "        x: array([4.71090633, 1.67587954]),\n",
       " 12)"
      ]
     },
     "execution_count": 23,
     "metadata": {},
     "output_type": "execute_result"
    }
   ],
   "source": [
    "import gptools\n",
    "\n",
    "# Noiseless case:\n",
    "\n",
    "x_train = jnp.atleast_2d([1., 3., 5., 6., 7., 8.]).T\n",
    "y_train = (f(x_train).ravel())\n",
    "y_train = y_train.reshape(len(y_train),1)\n",
    "\n",
    "gp = gptools.GaussianProcess(gptools.SquaredExponentialKernel(param_bounds=[(0, 20), (0, 5)]))\n",
    "gp.add_data(x_train, y_train.squeeze(), n=0)\n",
    "gp.optimize_hyperparameters(verbose=True)"
   ]
  },
  {
   "cell_type": "code",
   "execution_count": null,
   "metadata": {},
   "outputs": [],
   "source": [
    "grad_order = 10\n",
    "\n",
    "grad_f = f\n",
    "for _ in range(grad_order):\n",
    "    grad_f = jax.jacfwd(grad_f)\n",
    "grad_f = jax.vmap(grad_f, in_axes=0)\n",
    "y_true = grad_f(x_train).squeeze()\n",
    "print('a')\n",
    "x_pred =  jnp.atleast_2d(jnp.linspace(-10, 20, 1000)).T\n",
    "y_star, err_y_star = gp.predict(x_pred, n=grad_order)\n",
    "plot_gptools(x_pred, y_star, err_y_star**2, grad_f, x_train, y_true)"
   ]
  },
  {
   "cell_type": "code",
   "execution_count": null,
   "metadata": {},
   "outputs": [],
   "source": []
  }
 ],
 "metadata": {
  "kernelspec": {
   "display_name": "Python 3 (ipykernel)",
   "language": "python",
   "name": "python3"
  },
  "language_info": {
   "codemirror_mode": {
    "name": "ipython",
    "version": 3
   },
   "file_extension": ".py",
   "mimetype": "text/x-python",
   "name": "python",
   "nbconvert_exporter": "python",
   "pygments_lexer": "ipython3",
   "version": "3.8.5"
  }
 },
 "nbformat": 4,
 "nbformat_minor": 2
}
